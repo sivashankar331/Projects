{
 "cells": [
  {
   "cell_type": "code",
   "execution_count": null,
   "id": "28fe854d-f353-4a95-bac9-89bdad94553c",
   "metadata": {},
   "outputs": [],
   "source": [
    "import pandas as pd\n",
    "import numpy as np\n",
    "import seaborn as sns\n",
    "import matplotlib.pyplot as plt"
   ]
  },
  {
   "cell_type": "code",
   "execution_count": null,
   "id": "094d55d3-1f00-4d6b-8c78-809b64c88d76",
   "metadata": {},
   "outputs": [],
   "source": [
    "import os"
   ]
  },
  {
   "cell_type": "code",
   "execution_count": null,
   "id": "adb0d1b7-3ba8-46cf-a073-85a41d76b366",
   "metadata": {},
   "outputs": [],
   "source": [
    "os.listdir(r\"C:\\Users\\SIVA\\Downloads\\Datasets\")"
   ]
  },
  {
   "cell_type": "code",
   "execution_count": null,
   "id": "23fdb9a1-e06a-4d85-8c01-0c46e3affb2c",
   "metadata": {},
   "outputs": [],
   "source": [
    "uber_15 = pd.read_csv(r\"C:\\Users\\SIVA\\Downloads\\Datasets/uber-raw-data-janjune-15_sample.csv\")"
   ]
  },
  {
   "cell_type": "code",
   "execution_count": null,
   "id": "2da81eb4-98c1-41fe-ba13-334e375961ca",
   "metadata": {},
   "outputs": [],
   "source": [
    "uber_15.shape\n",
    "# shape is used to fetch the dimensions of Pandas and NumPy type objects in python"
   ]
  },
  {
   "cell_type": "code",
   "execution_count": null,
   "id": "4ef2832f-0a37-4591-ab7b-cadf66cbbeb7",
   "metadata": {},
   "outputs": [],
   "source": [
    "type(uber_15)"
   ]
  },
  {
   "cell_type": "code",
   "execution_count": null,
   "id": "fd30ba90-fd95-43a5-9166-078132056d4c",
   "metadata": {},
   "outputs": [],
   "source": [
    "uber_15.duplicated()"
   ]
  },
  {
   "cell_type": "code",
   "execution_count": null,
   "id": "4defad7a-c495-4273-8dd7-25977aae4f9f",
   "metadata": {},
   "outputs": [],
   "source": [
    "uber_15.duplicated().sum()"
   ]
  },
  {
   "cell_type": "code",
   "execution_count": null,
   "id": "557343ea-f89f-412b-b200-bb9c212c93d3",
   "metadata": {},
   "outputs": [],
   "source": [
    "uber_15.drop_duplicates(inplace=True)\n",
    "#inplace=True Used to Save the Operation done"
   ]
  },
  {
   "cell_type": "code",
   "execution_count": null,
   "id": "52430e44-db5d-4e49-b26e-8e31418185d9",
   "metadata": {},
   "outputs": [],
   "source": [
    "uber_15.duplicated().sum()"
   ]
  },
  {
   "cell_type": "code",
   "execution_count": null,
   "id": "b19e2391-7b59-4d44-a05d-d9c9401bbe66",
   "metadata": {},
   "outputs": [],
   "source": [
    "uber_15.shape"
   ]
  },
  {
   "cell_type": "code",
   "execution_count": null,
   "id": "6ff3928c-2390-49ba-bfee-382c38a6bac9",
   "metadata": {},
   "outputs": [],
   "source": [
    "uber_15.dtypes"
   ]
  },
  {
   "cell_type": "code",
   "execution_count": null,
   "id": "7588de28-5ef0-496e-898e-b44aafe44f0b",
   "metadata": {},
   "outputs": [],
   "source": [
    "uber_15.isnull().sum()\n",
    "#isnull is for missing values"
   ]
  },
  {
   "cell_type": "code",
   "execution_count": null,
   "id": "684b9271-5f8d-481f-adef-5214056d187e",
   "metadata": {},
   "outputs": [],
   "source": [
    "uber_15['Pickup_date'][0]"
   ]
  },
  {
   "cell_type": "code",
   "execution_count": null,
   "id": "46004f40-ec40-49d8-9710-9f9059203cbe",
   "metadata": {},
   "outputs": [],
   "source": [
    "type(uber_15['Pickup_date'][0])"
   ]
  },
  {
   "cell_type": "code",
   "execution_count": null,
   "id": "de54bd34-5902-457b-afb0-f48abb0cf8ca",
   "metadata": {},
   "outputs": [],
   "source": [
    "pd.to_datetime(uber_15['Pickup_date'])"
   ]
  },
  {
   "cell_type": "code",
   "execution_count": null,
   "id": "74c1a71d-4db0-4730-8840-08d3654fe000",
   "metadata": {},
   "outputs": [],
   "source": [
    "uber_15['Pickup_date']=pd.to_datetime(uber_15['Pickup_date'])"
   ]
  },
  {
   "cell_type": "code",
   "execution_count": null,
   "id": "8690ca9e-d5c4-41f2-8c04-e1077f73a012",
   "metadata": {},
   "outputs": [],
   "source": [
    "type(uber_15['Pickup_date'])"
   ]
  },
  {
   "cell_type": "code",
   "execution_count": null,
   "id": "df831273-5993-49a6-8e74-cba3dfe5e6f5",
   "metadata": {},
   "outputs": [],
   "source": [
    "uber_15['Pickup_date'].dtype"
   ]
  },
  {
   "cell_type": "code",
   "execution_count": null,
   "id": "4d1eb551-27fc-41f6-88e4-fffea1761183",
   "metadata": {},
   "outputs": [],
   "source": [
    "uber_15"
   ]
  },
  {
   "cell_type": "code",
   "execution_count": null,
   "id": "bc7c50fa-0e34-44d5-83b5-d92a89bcb94d",
   "metadata": {},
   "outputs": [],
   "source": [
    "uber_15['Pickup_date'].dt.month"
   ]
  },
  {
   "cell_type": "code",
   "execution_count": null,
   "id": "9491cd89-9e66-4351-9646-b528b6da198b",
   "metadata": {},
   "outputs": [],
   "source": [
    "uber_15['Pickup_date'].dt.month_name()"
   ]
  },
  {
   "cell_type": "code",
   "execution_count": null,
   "id": "a1fd60e8-2e8b-4315-86bc-4539f20866b2",
   "metadata": {},
   "outputs": [],
   "source": [
    "uber_15['month'] = uber_15['Pickup_date'].dt.month_name()"
   ]
  },
  {
   "cell_type": "code",
   "execution_count": null,
   "id": "8f00d09b-97c2-446c-a89b-5b72bb16f266",
   "metadata": {},
   "outputs": [],
   "source": [
    "uber_15['month']"
   ]
  },
  {
   "cell_type": "code",
   "execution_count": null,
   "id": "db13de7e-a88b-43e8-a0ea-c45c636ea1d7",
   "metadata": {},
   "outputs": [],
   "source": [
    "uber_15['month'].value_counts().plot()"
   ]
  },
  {
   "cell_type": "code",
   "execution_count": null,
   "id": "faf384e2-3ec5-44ca-8fbe-e817a50db3cb",
   "metadata": {},
   "outputs": [],
   "source": [
    "uber_15['month'].value_counts().plot(kind='bar')"
   ]
  },
  {
   "cell_type": "code",
   "execution_count": null,
   "id": "eb675c53-f422-4a16-b325-a32b49df1e35",
   "metadata": {},
   "outputs": [],
   "source": [
    "uber_15['month'] = uber_15['Pickup_date'].dt.month_name()"
   ]
  },
  {
   "cell_type": "code",
   "execution_count": null,
   "id": "651d47e7-da91-4a45-87fe-50a91927112d",
   "metadata": {},
   "outputs": [],
   "source": [
    "uber_15['Pickup_date'].dt.day"
   ]
  },
  {
   "cell_type": "code",
   "execution_count": null,
   "id": "7e468f4f-f439-4531-bf4d-58ccfc9ebc42",
   "metadata": {},
   "outputs": [],
   "source": [
    "uber_15['Pickup_date'].dt.day_name()"
   ]
  },
  {
   "cell_type": "code",
   "execution_count": null,
   "id": "ba17d50e-46ee-4335-8d06-d49c102defaa",
   "metadata": {},
   "outputs": [],
   "source": [
    "uber_15['weekday'] = uber_15['Pickup_date'].dt.day_name()\n",
    "uber_15['day'] = uber_15['Pickup_date'].dt.day\n",
    "uber_15['hour'] = uber_15['Pickup_date'].dt.hour\n",
    "uber_15['minute'] = uber_15['Pickup_date'].dt.minute"
   ]
  },
  {
   "cell_type": "code",
   "execution_count": null,
   "id": "028ad53b-6ebe-4a2f-b9d0-e994e492d2a3",
   "metadata": {},
   "outputs": [],
   "source": [
    "uber_15.head(4)"
   ]
  },
  {
   "cell_type": "code",
   "execution_count": null,
   "id": "7d4a0111-8721-4da3-bec7-064902346e7a",
   "metadata": {},
   "outputs": [],
   "source": [
    "pd.crosstab(index=uber_15['month'] , columns=uber_15['weekday'])"
   ]
  },
  {
   "cell_type": "code",
   "execution_count": null,
   "id": "111d1641-643f-4ddb-b2e0-9c8556040aba",
   "metadata": {},
   "outputs": [],
   "source": [
    "pivot = pd.crosstab(index=uber_15['month'] , columns=uber_15['weekday'])"
   ]
  },
  {
   "cell_type": "code",
   "execution_count": null,
   "id": "538362e0-42d9-43e4-9c98-efa0a50e1ae5",
   "metadata": {},
   "outputs": [],
   "source": [
    "pivot"
   ]
  },
  {
   "cell_type": "code",
   "execution_count": null,
   "id": "c9f249b0-7d94-47de-aca5-d4243ada70da",
   "metadata": {},
   "outputs": [],
   "source": [
    "pivot.plot(kind='bar' , figsize=(8,6))"
   ]
  },
  {
   "cell_type": "code",
   "execution_count": null,
   "id": "f4b1e6e2-3b32-49cb-bfe0-0bcee8e7180e",
   "metadata": {},
   "outputs": [],
   "source": [
    "uber_15.groupby(['weekday','hour']).size()"
   ]
  },
  {
   "cell_type": "code",
   "execution_count": null,
   "id": "a1050ceb-d70f-45c3-a725-4c4c522fcc01",
   "metadata": {},
   "outputs": [],
   "source": [
    "summary=uber_15.groupby(['weekday','hour'], as_index=False).size()"
   ]
  },
  {
   "cell_type": "code",
   "execution_count": null,
   "id": "d87e4672-6833-4458-a8ea-6caea7578c1f",
   "metadata": {},
   "outputs": [],
   "source": [
    "summary"
   ]
  },
  {
   "cell_type": "code",
   "execution_count": null,
   "id": "21ac1732-f147-46e1-b252-8373b93319cc",
   "metadata": {},
   "outputs": [],
   "source": [
    "plt.figure(figsize=(8,6))\n",
    "sns.pointplot(x=\"hour\",y=\"size\",hue=\"weekday\", data=summary)"
   ]
  },
  {
   "cell_type": "code",
   "execution_count": null,
   "id": "13ea98e5-037d-4159-98e0-af0b1e693050",
   "metadata": {},
   "outputs": [],
   "source": [
    "os.listdir(r\"C:\\Users\\SIVA\\Downloads\\Datasets\")"
   ]
  },
  {
   "cell_type": "code",
   "execution_count": null,
   "id": "92650c60-a2b0-4446-b99e-2b539786a2af",
   "metadata": {},
   "outputs": [],
   "source": [
    "pd.read_csv(r\"C:\\Users\\SIVA\\Downloads\\Datasets/Uber-Jan-Feb-FOIL.csv\")"
   ]
  },
  {
   "cell_type": "code",
   "execution_count": null,
   "id": "bc4d5ef8-bf5f-417a-97a7-6d81e6bdf9c0",
   "metadata": {},
   "outputs": [],
   "source": [
    "uber_foil = pd.read_csv(r\"C:\\Users\\SIVA\\Downloads\\Datasets/Uber-Jan-Feb-FOIL.csv\")"
   ]
  },
  {
   "cell_type": "code",
   "execution_count": null,
   "id": "47163536-74e1-4e3b-aac1-51c5ea4786ad",
   "metadata": {},
   "outputs": [],
   "source": [
    "uber_foil.shape"
   ]
  },
  {
   "cell_type": "code",
   "execution_count": null,
   "id": "380a7e0a-a4dc-4f1b-89f7-788550470500",
   "metadata": {},
   "outputs": [],
   "source": [
    "uber_foil.head(3)"
   ]
  },
  {
   "cell_type": "code",
   "execution_count": null,
   "id": "274a540c-ed95-4e99-bde5-79d57b1a53a0",
   "metadata": {},
   "outputs": [],
   "source": [
    "!pip install chart_studio\n",
    "!pip install plotly"
   ]
  },
  {
   "cell_type": "code",
   "execution_count": null,
   "id": "3e9341ea-db8e-4719-a45b-498d3f25cf0c",
   "metadata": {},
   "outputs": [],
   "source": [
    "import chart_studio.plotly as py\n",
    "import plotly.graph_objs as go\n",
    "import plotly.express as px\n",
    "from plotly.offline import download_plotlyjs , init_notebook_mode , plot , iplot"
   ]
  },
  {
   "cell_type": "code",
   "execution_count": null,
   "id": "831b3319-9767-4db7-bc33-57ba9ad0313f",
   "metadata": {},
   "outputs": [],
   "source": [
    "init_notebook_mode(connected=True)"
   ]
  },
  {
   "cell_type": "code",
   "execution_count": null,
   "id": "94f0b41f-efd3-4c64-ba71-98512cee62ee",
   "metadata": {},
   "outputs": [],
   "source": [
    "uber_foil.columns"
   ]
  },
  {
   "cell_type": "code",
   "execution_count": null,
   "id": "cdfe446c-148f-4964-8588-360558924ad0",
   "metadata": {},
   "outputs": [],
   "source": [
    "px.box(x='dispatching_base_number',y='active_vehicles',data_frame=uber_foil)"
   ]
  },
  {
   "cell_type": "code",
   "execution_count": null,
   "id": "56486774-5944-4e05-85b3-b5200b7be3d2",
   "metadata": {},
   "outputs": [],
   "source": [
    "px.violin(x='dispatching_base_number',y='active_vehicles',data_frame=uber_foil)"
   ]
  },
  {
   "cell_type": "code",
   "execution_count": null,
   "id": "ec59dc84-1d58-4cbe-9c1e-57feac1eff40",
   "metadata": {},
   "outputs": [],
   "source": [
    "os.listdir(r\"C:\\Users\\SIVA\\Downloads\\Datasets\")"
   ]
  },
  {
   "cell_type": "code",
   "execution_count": null,
   "id": "a4ac6307-4ad0-4cec-8eb6-e4250927861e",
   "metadata": {},
   "outputs": [],
   "source": [
    "files=os.listdir(r\"C:\\Users\\SIVA\\Downloads\\Datasets\")[-8:]"
   ]
  },
  {
   "cell_type": "code",
   "execution_count": null,
   "id": "2e879c9a-76f7-4826-bcad-d85a5b0596c3",
   "metadata": {},
   "outputs": [],
   "source": [
    "files"
   ]
  },
  {
   "cell_type": "code",
   "execution_count": null,
   "id": "2498612a-fdec-4e65-84ed-405bb17d2ced",
   "metadata": {},
   "outputs": [],
   "source": [
    "files.remove('uber-raw-data-janjune-15.csv')"
   ]
  },
  {
   "cell_type": "code",
   "execution_count": null,
   "id": "bedc3a1e-5cda-46bb-9031-5d7b2f14943b",
   "metadata": {},
   "outputs": [],
   "source": [
    "files"
   ]
  },
  {
   "cell_type": "code",
   "execution_count": null,
   "id": "2fd2d7c5-985f-4e0e-936b-caef6a88ab08",
   "metadata": {},
   "outputs": [],
   "source": [
    "files.remove('uber-raw-data-janjune-15_sample.csv')"
   ]
  },
  {
   "cell_type": "code",
   "execution_count": null,
   "id": "f459f6f7-bf3d-47a0-ab19-0f7f3e082e1f",
   "metadata": {},
   "outputs": [],
   "source": [
    "files"
   ]
  },
  {
   "cell_type": "code",
   "execution_count": null,
   "id": "ae5bdae5-401c-49c1-8e32-9013bb66bac2",
   "metadata": {},
   "outputs": [],
   "source": [
    "final=pd.DataFrame()\n",
    "path=r\"C:\\Users\\SIVA\\Downloads\\Datasets\"\n",
    "for file in files:\n",
    "    current_df=pd.read_csv(path+'/'+file)\n",
    "    final=pd.concat([current_df,final])"
   ]
  },
  {
   "cell_type": "code",
   "execution_count": null,
   "id": "fb1cb476-47e9-428f-b12e-64ff9901c415",
   "metadata": {},
   "outputs": [],
   "source": [
    "final.shape"
   ]
  },
  {
   "cell_type": "code",
   "execution_count": null,
   "id": "7eee1efb-5f13-4954-91ec-c3f5f88c0716",
   "metadata": {},
   "outputs": [],
   "source": [
    "final.duplicated().sum()"
   ]
  },
  {
   "cell_type": "code",
   "execution_count": null,
   "id": "c007fd87-2135-4151-95f2-17e50c901e48",
   "metadata": {},
   "outputs": [],
   "source": [
    "final.drop_duplicates(inplace=True)"
   ]
  },
  {
   "cell_type": "code",
   "execution_count": null,
   "id": "5bb890c0-312a-403b-8072-b8a11b545f09",
   "metadata": {},
   "outputs": [],
   "source": [
    "final.shape"
   ]
  },
  {
   "cell_type": "code",
   "execution_count": null,
   "id": "3a7429c4-d86e-4285-a7a8-8eebda809f0d",
   "metadata": {},
   "outputs": [],
   "source": [
    "final.head(3)"
   ]
  },
  {
   "cell_type": "code",
   "execution_count": null,
   "id": "4bd87ed5-a922-432a-a5da-2b49a0d39d8b",
   "metadata": {},
   "outputs": [],
   "source": [
    "final.groupby(['Lat','Lon'], as_index=False).size()"
   ]
  },
  {
   "cell_type": "code",
   "execution_count": null,
   "id": "f1f09564-1bcc-4ec0-9054-6fe587bd3367",
   "metadata": {},
   "outputs": [],
   "source": [
    "rush_uber=final.groupby(['Lat','Lon'], as_index=False).size()"
   ]
  },
  {
   "cell_type": "code",
   "execution_count": null,
   "id": "e71648e9-eb37-48a0-b095-f5f324a60569",
   "metadata": {},
   "outputs": [],
   "source": [
    "rush_uber.head(6)"
   ]
  },
  {
   "cell_type": "code",
   "execution_count": null,
   "id": "38852fc3-0d6e-4758-9472-af2562dcce4f",
   "metadata": {},
   "outputs": [],
   "source": [
    "!pip install folium"
   ]
  },
  {
   "cell_type": "code",
   "execution_count": null,
   "id": "a88f91f2-c25b-42d9-933b-713fe0adb3cb",
   "metadata": {},
   "outputs": [],
   "source": [
    "import folium"
   ]
  },
  {
   "cell_type": "code",
   "execution_count": null,
   "id": "90e5aa83-28b4-4353-a201-b510f61b0074",
   "metadata": {},
   "outputs": [],
   "source": [
    "basemap=folium.Map()"
   ]
  },
  {
   "cell_type": "code",
   "execution_count": null,
   "id": "498cc91a-f8e5-4410-94c0-4128150e1b1d",
   "metadata": {},
   "outputs": [],
   "source": [
    "basemap"
   ]
  },
  {
   "cell_type": "code",
   "execution_count": null,
   "id": "b8c4fb6a-580d-465d-ba19-1e85158a72a9",
   "metadata": {},
   "outputs": [],
   "source": [
    "from folium.plugins import HeatMap"
   ]
  },
  {
   "cell_type": "code",
   "execution_count": null,
   "id": "83df8217-7f2a-4dde-9a0d-7a5738d2c94c",
   "metadata": {},
   "outputs": [],
   "source": [
    "HeatMap(rush_uber).add_to(basemap)"
   ]
  },
  {
   "cell_type": "code",
   "execution_count": null,
   "id": "b9764469-93dc-494b-9cfe-bc3edef0c11a",
   "metadata": {},
   "outputs": [],
   "source": [
    "basemap"
   ]
  },
  {
   "cell_type": "code",
   "execution_count": null,
   "id": "b9d387a4-2d00-4fc4-acd2-45906aa1045f",
   "metadata": {},
   "outputs": [],
   "source": [
    "final.columns"
   ]
  },
  {
   "cell_type": "code",
   "execution_count": null,
   "id": "fd31d7e8-4398-4b8f-bc31-1443166b7665",
   "metadata": {},
   "outputs": [],
   "source": [
    "final.head(3)"
   ]
  },
  {
   "cell_type": "code",
   "execution_count": null,
   "id": "f8c7b2d8-d56b-42c5-a19f-cce11fedc707",
   "metadata": {},
   "outputs": [],
   "source": []
  },
  {
   "cell_type": "code",
   "execution_count": null,
   "id": "9a5c067e-36b3-4843-b024-d82467eb419e",
   "metadata": {},
   "outputs": [],
   "source": []
  },
  {
   "cell_type": "code",
   "execution_count": null,
   "id": "30adc8a8-fee1-4af5-bb48-9c70b341fd4e",
   "metadata": {},
   "outputs": [],
   "source": [
    "final.dtypes"
   ]
  },
  {
   "cell_type": "code",
   "execution_count": null,
   "id": "d52b6b32-c286-49b2-9a84-faba456cd171",
   "metadata": {},
   "outputs": [],
   "source": [
    "(final['Date/Time'])"
   ]
  },
  {
   "cell_type": "code",
   "execution_count": null,
   "id": "82e53f94-2bfa-4082-bf4b-5ddda9fe72a4",
   "metadata": {},
   "outputs": [],
   "source": []
  },
  {
   "cell_type": "code",
   "execution_count": null,
   "id": "c0766d66-b0b9-4d41-96a9-df1c4f61a9c8",
   "metadata": {},
   "outputs": [],
   "source": [
    "final['Date/Time'] = pd.to_datetime(final['Date/Time'] , format=\"%m/%d/%Y %H:%M:%S\")"
   ]
  },
  {
   "cell_type": "code",
   "execution_count": null,
   "id": "cd988510-9dc0-4d18-bf63-cde583077d14",
   "metadata": {},
   "outputs": [],
   "source": [
    "final['Date/Time']"
   ]
  },
  {
   "cell_type": "code",
   "execution_count": null,
   "id": "6f930988-a827-4947-b8f7-81c5d2a9c35e",
   "metadata": {},
   "outputs": [],
   "source": [
    "final['Date/Time'].dtype"
   ]
  },
  {
   "cell_type": "code",
   "execution_count": null,
   "id": "140f5584-55b6-4eb6-b6cc-35fc80f5f778",
   "metadata": {},
   "outputs": [],
   "source": [
    "final['day'] = final['Date/Time'].dt.day"
   ]
  },
  {
   "cell_type": "code",
   "execution_count": null,
   "id": "0395e965-2017-49fc-b51c-76ba42f54c96",
   "metadata": {},
   "outputs": [],
   "source": [
    "final['hour'] = final['Date/Time'].dt.hour"
   ]
  },
  {
   "cell_type": "code",
   "execution_count": null,
   "id": "7c2497aa-3f8d-4d55-a745-d6a4e966354d",
   "metadata": {},
   "outputs": [],
   "source": [
    "pivot = final.groupby(['day' , 'hour']).size().unstack()"
   ]
  },
  {
   "cell_type": "code",
   "execution_count": null,
   "id": "68d02706-d6aa-4d4b-b493-4eea9f9d9bbc",
   "metadata": {},
   "outputs": [],
   "source": [
    "pivot"
   ]
  },
  {
   "cell_type": "code",
   "execution_count": null,
   "id": "41de2293-5269-489e-81a5-88411fa01c65",
   "metadata": {},
   "outputs": [],
   "source": [
    "pivot.style.background_gradient()"
   ]
  },
  {
   "cell_type": "code",
   "execution_count": 343,
   "id": "d2313fbc-032a-45b6-aed8-73a2568344a5",
   "metadata": {},
   "outputs": [],
   "source": [
    "def gen_pivot_table(df , col1 , col2):\n",
    "    pivot = final.groupby([col1 , col2]).size().unstack()\n",
    "    return pivot.style.background_gradient()"
   ]
  },
  {
   "cell_type": "code",
   "execution_count": 344,
   "id": "f0cde1c4-1b98-42a5-8a2a-a78227ab958b",
   "metadata": {},
   "outputs": [
    {
     "data": {
      "text/plain": [
       "Index(['Date/Time', 'Lat', 'Lon', 'Base', 'day', 'hour'], dtype='object')"
      ]
     },
     "execution_count": 344,
     "metadata": {},
     "output_type": "execute_result"
    }
   ],
   "source": [
    "final.columns"
   ]
  },
  {
   "cell_type": "code",
   "execution_count": null,
   "id": "219eba45-2dcc-4172-9552-6a7dbf89a5cb",
   "metadata": {},
   "outputs": [],
   "source": [
    "gen_pivot_table(final , \"day\" , \"hour\")"
   ]
  },
  {
   "cell_type": "code",
   "execution_count": null,
   "id": "f3cd812f-c6ca-4cf9-bff8-66e2ab5f8d1b",
   "metadata": {},
   "outputs": [],
   "source": [
    "pivot"
   ]
  },
  {
   "cell_type": "code",
   "execution_count": null,
   "id": "25575dfd-0087-495e-9611-ae32e28e7b8c",
   "metadata": {},
   "outputs": [],
   "source": []
  }
 ],
 "metadata": {
  "kernelspec": {
   "display_name": "Python 3 (ipykernel)",
   "language": "python",
   "name": "python3"
  },
  "language_info": {
   "codemirror_mode": {
    "name": "ipython",
    "version": 3
   },
   "file_extension": ".py",
   "mimetype": "text/x-python",
   "name": "python",
   "nbconvert_exporter": "python",
   "pygments_lexer": "ipython3",
   "version": "3.11.7"
  }
 },
 "nbformat": 4,
 "nbformat_minor": 5
}
